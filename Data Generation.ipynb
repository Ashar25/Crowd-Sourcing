{
 "cells": [
  {
   "cell_type": "markdown",
   "id": "140da729",
   "metadata": {},
   "source": [
    "# Data Generation code from STORM outputs"
   ]
  },
  {
   "cell_type": "markdown",
   "id": "29446934",
   "metadata": {},
   "source": [
    "## 1) Calling Libraries"
   ]
  },
  {
   "cell_type": "code",
   "execution_count": 25,
   "id": "34a9d7e0",
   "metadata": {},
   "outputs": [],
   "source": [
    "import pandas as pd\n",
    "import numpy as np\n",
    "import matplotlib.pyplot as plt\n"
   ]
  },
  {
   "cell_type": "markdown",
   "id": "e2e55483",
   "metadata": {},
   "source": [
    "## 2) Calling STORM outputs"
   ]
  },
  {
   "cell_type": "code",
   "execution_count": 26,
   "id": "3b2303a5",
   "metadata": {},
   "outputs": [],
   "source": [
    "df_dep  = pd.read_excel(r'Data/Sim0GaugeTot_1y.xlsx',index_col = 0)\n",
    "df_int  = pd.read_excel(r'Data/Sim0Gaugeint_1y.xlsx',index_col = 0)\n",
    "df_dur  = pd.read_excel(r'Data/Sim0Gaugedur_1y.xlsx',index_col = 0)\n",
    "df_strm = pd.read_excel(r'Data/StormSim0Storm_matrix_1y.xlsx',index_col = 0)"
   ]
  },
  {
   "cell_type": "markdown",
   "id": "c5d858a0",
   "metadata": {},
   "source": [
    "## Data Generation with no spatial information"
   ]
  },
  {
   "cell_type": "code",
   "execution_count": 27,
   "id": "e66844ba",
   "metadata": {},
   "outputs": [],
   "source": [
    "int_67 = df_strm['Storm Intensity'].quantile(0.67)\n",
    "int_33 = df_strm['Storm Intensity'].quantile(0.33)\n",
    "dur_67 = df_strm['Storm Duration'].quantile(0.67)\n",
    "dur_33 = df_strm['Storm Duration'].quantile(0.33)\n",
    "\n",
    "person_per_grid = [10]   ## Change this for participants\n",
    "for l in range(len(person_per_grid)):\n",
    "    c = 0\n",
    "    storms = df_strm.shape[0]\n",
    "    crowd = np.zeros((100000, 7))\n",
    "    for i in range(1, storms):\n",
    "        storm_int = df_int.iloc[i, 0:554].values\n",
    "        storm_dur = df_dur.iloc[i, 0:554].values\n",
    "        storm_tot = df_dep.iloc[i, 0:554].values\n",
    "        for j in range(554):\n",
    "            if storm_int[j] > 5 and storm_dur[j] > 0:\n",
    "                for k in range(person_per_grid[l]):\n",
    "                    # Intensity Class\n",
    "                    if storm_int[j] >= int_67:\n",
    "                        crowd[c, 1] = 3\n",
    "                    elif int_33 <= storm_int[j] < int_67:\n",
    "                        crowd[c, 1] = 2\n",
    "                    else:\n",
    "                        crowd[c, 1] = 1\n",
    "\n",
    "                    # Duration Class (note: storm_dur in minutes, we convert to seconds)\n",
    "                    duration_sec = storm_dur[j] * 60\n",
    "                    if duration_sec >= dur_67:\n",
    "                        crowd[c, 2] = 3\n",
    "                    elif dur_33 <= duration_sec < dur_67:\n",
    "                        crowd[c, 2] = 2\n",
    "                    else:\n",
    "                        crowd[c, 2] = 1\n",
    "\n",
    "                    # Storm Center flag\n",
    "                    if storm_int[j] == df_int.iloc[i, 0:554].values.max():\n",
    "                        crowd[c, 5] = 1\n",
    "                    else:\n",
    "                        crowd[c, 5] = 0\n",
    "\n",
    "                    # Target classification \n",
    "                    int_class = crowd[c, 1]\n",
    "                    dur_class = crowd[c, 2]\n",
    "\n",
    "                    if (int_class == 1 and dur_class in [1, 2]) or (int_class == 2 and dur_class == 1):\n",
    "                        crowd[c, 6] = 1  # Normal\n",
    "                    elif (int_class == 1 and dur_class == 3) or (int_class == 2 and dur_class in [2, 3]) or (int_class == 3 and dur_class == 1):\n",
    "                        crowd[c, 6] = 2  # Moderate \n",
    "                    else:\n",
    "                        crowd[c, 6] = 3  # Severe\n",
    "\n",
    "                    # Record other attributes\n",
    "                    crowd[c, 0] = c\n",
    "                    crowd[c, 3] = storm_int[j]\n",
    "                    crowd[c, 4] = duration_sec\n",
    "                    c += 1\n",
    "\n",
    "    trunc_at = np.argmax(np.isclose(crowd[1:, 0], 0.)) + 1\n",
    "    crowd_out = crowd[:trunc_at, :]\n",
    "    col = ['Person Id', 'Intensity_class', 'Duration_class', 'Storm_Intensity', 'Storm_duration', \"Storm Center\", 'Target']\n",
    "    crowd_out_df = pd.DataFrame(crowd_out, columns=col)\n"
   ]
  },
  {
   "cell_type": "markdown",
   "id": "a5c70a37",
   "metadata": {},
   "source": [
    "## Data Generation with spatial information"
   ]
  },
  {
   "cell_type": "code",
   "execution_count": null,
   "id": "407c62e0",
   "metadata": {},
   "outputs": [],
   "source": [
    "person_per_grid = [5]    ##Change this for participants\n",
    "for l in range (len(person_per_grid)):\n",
    "    c = 0\n",
    "    storms = df_strm.shape[0]\n",
    "    crowd = np.zeros((3000000,8))\n",
    "    for i in range (1 , storms):\n",
    "        storm_int = df_int.iloc[i,0:554].values\n",
    "        storm_dur = df_dur.iloc[i,0:554].values\n",
    "        storm_tot = df_dep.iloc[i,0:554].values\n",
    "        for j in range (554):\n",
    "            if storm_int[j] > 5 and storm_dur[j] > 0:\n",
    "                for k in range (person_per_grid[l]):\n",
    "                    if storm_int[j] >= int_67 :\n",
    "                        crowd[c,1] = 3\n",
    "\n",
    "                    elif int_33 <= storm_int[j] < int_67:\n",
    "                        crowd[c,1] = 2\n",
    "                    else:\n",
    "                        crowd[c,1] = 1\n",
    "                    if storm_dur[j]*60 >= dur_67:\n",
    "                        crowd[c,2] = 3\n",
    "                    elif dur_33 <= storm_dur[j]*60 < dur_67:\n",
    "                        crowd[c,2] = 2\n",
    "                    else: \n",
    "                        crowd[c,2] = 1\n",
    "                    if storm_int[j] == df_int.iloc[i,0:554].values.max() :\n",
    "                        crowd[c,5] = 1\n",
    "                    else:\n",
    "                        crowd[c,5] = 0\n",
    "                    if storm_int[j] >= int_67 and storm_dur[j]*60 >= dur_67:\n",
    "                        crowd[c,6] = 3\n",
    "                    elif int_33 <= storm_int[j] < int_67 or dur_33 <= storm_dur[j]*60 < dur_67 :\n",
    "                        crowd[c,6] = 2\n",
    "                    else:\n",
    "                        crowd[c,6] = 1\n",
    "                    crowd[c,0] = j  # Add for spatial location\n",
    "                    crowd[c,7] = k\n",
    "                    crowd[c,3] = storm_int[j]\n",
    "                    crowd[c,4] = storm_dur[j]*60\n",
    "                    c += 1\n",
    "\n",
    "    trunc_at = np.argmax(np.isclose(crowd[1:, 1], 0.)) + 1\n",
    "    crowd_out = crowd[:trunc_at, :]\n",
    "    col = ['Gauge_Id', 'Intensity_class', 'Duration_class','Storm_Intensity','Storm_duration', \"Storm Center\", 'Target','Person_id']\n",
    "    crowd_df = pd.DataFrame(crowd_out,columns = col)\n",
    "    crowd_df['Gauge_Id'] = crowd_df['Gauge_Id'].astype('int32')\n",
    "    crowd_df['Person_id'] = crowd_df['Person_id'].astype('int32')\n",
    "    crowd_df['Gauge_Id'] = crowd_df['Gauge_Id'].astype('str')\n",
    "    crowd_df['Person_id'] = crowd_df['Person_id'].astype('str')\n",
    "    crowd_df['Gauge_Id'] = crowd_df['Gauge_Id'].astype('str')\n",
    "    crowd_df['Person_id'] = crowd_df['Person_id'].astype('str')\n",
    "    test = crowd_df['Gauge_Id'] + '_' + crowd_df['Person_id']\n",
    "    crowd_df.insert(loc = 0 , column = 'ID' , value = test)\n",
    "    crowd_df.to_csv(r'crowd/{}_person_grid_test.csv'.format(person_per_grid[l]))\n",
    "    "
   ]
  }
 ],
 "metadata": {
  "kernelspec": {
   "display_name": "base",
   "language": "python",
   "name": "python3"
  },
  "language_info": {
   "codemirror_mode": {
    "name": "ipython",
    "version": 3
   },
   "file_extension": ".py",
   "mimetype": "text/x-python",
   "name": "python",
   "nbconvert_exporter": "python",
   "pygments_lexer": "ipython3",
   "version": "3.9.13"
  }
 },
 "nbformat": 4,
 "nbformat_minor": 5
}
